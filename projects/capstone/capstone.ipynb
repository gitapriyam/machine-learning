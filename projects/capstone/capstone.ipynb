{
 "cells": [
  {
   "cell_type": "markdown",
   "metadata": {},
   "source": [
    "### <font color=\"blue\">Introduction</font> \n",
    "This udacity project is related to kaggle competetion at https://www.kaggle.com/donorschoose/io/home  and I use the same dataset provided for the above compettion. <br>\n",
    "1. **Scope of the work**: Identify the projects with their related projects. The donors are passionate about specific projects and if we can associate the projects with all the related projects, the donor can be presented with all the related projects. Given this information, the donor can make informed choices quickly.<br>\n",
    "2. **Solution Approach**: The similarity can be established by comparing the \"Project Short Description\", “project essay”: fields with projects dataset. So this is essentially a document similarity problem. I plan to use Supervised Machine learning using SVM (Support Vector Machine) for document classification."
   ]
  },
  {
   "cell_type": "markdown",
   "metadata": {},
   "source": [
    "#### <font color=\"blue\">import all the required for executing the code</font> \n"
   ]
  },
  {
   "cell_type": "code",
   "execution_count": 1,
   "metadata": {
    "_uuid": "d052df9a2a2fde1aa937eb91345a5218b9f4216c",
    "collapsed": true,
    "extensions": {
     "jupyter_dashboards": {
      "version": 1,
      "views": {
       "grid_default": {
        "hidden": true
       },
       "report_default": {}
      }
     }
    }
   },
   "outputs": [],
   "source": [
    "from sklearn.feature_extraction.text import TfidfVectorizer\n",
    "from sklearn.metrics.pairwise import linear_kernel\n",
    "from sklearn.metrics.pairwise import cosine_similarity\n",
    "import matplotlib.pyplot as plt\n",
    "from sklearn.metrics.pairwise import linear_kernel\n",
    "from multiprocessing import Pool\n",
    "\n",
    "# other python utilities \n",
    "from tqdm import tqdm\n",
    "from tqdm import tqdm_notebook\n",
    "import pandas as pd \n",
    "import numpy as np \n",
    "import warnings, math\n",
    "import gc\n",
    "%matplotlib inline\n",
    "# ignore the warnings \n",
    "warnings.filterwarnings('ignore')"
   ]
  },
  {
   "cell_type": "markdown",
   "metadata": {},
   "source": [
    " #### <font color=\"blue\">Constants declarations </font>\n",
    "\n",
    "The constants declaration"
   ]
  },
  {
   "cell_type": "code",
   "execution_count": 2,
   "metadata": {
    "collapsed": true
   },
   "outputs": [],
   "source": [
    "# This will be used to derive the related projects dataframe\n",
    "output_columns=['Project ID', 'Related Project ID', 'Cosine Similarity'] \n",
    "# This is representative of top n related projects generated as output defaults to 5. Changeable to any useful value \n",
    "top_n = 5\n",
    "#number of partitions to split dataframe. This is primaraily used for parallel processing\n",
    "num_partitions = 40\n",
    "#number of cores on your machine. The more the value, more CPUs will be engaged for processing\n",
    "num_cores = 2\n",
    "# round off digits for final cosine similarity score. \n",
    "round_digits=2\n",
    "#filter condition for cosine simialrity score for related projects.\n",
    "cos_filter_score=0.7"
   ]
  },
  {
   "cell_type": "markdown",
   "metadata": {},
   "source": [
    "#### <font color=\"blue\">Set Panda Options</font> \n",
    "Utility method for setting panda options are set to display pandas dataframe"
   ]
  },
  {
   "cell_type": "code",
   "execution_count": 3,
   "metadata": {
    "_uuid": "d370eaff003847869bed6d6589cd0acef99d613b",
    "collapsed": true
   },
   "outputs": [],
   "source": [
    "def set_pd_options():\n",
    "    pd.set_option('display.max_rows', 500)\n",
    "    pd.set_option('display.max_columns', 500)\n",
    "    pd.set_option('display.width', 1000)"
   ]
  },
  {
   "cell_type": "markdown",
   "metadata": {},
   "source": [
    "#### <font color=\"blue\">1.1 Set Panda display column width</font> \n",
    "Utility method for setting panda options for displaying long columns"
   ]
  },
  {
   "cell_type": "code",
   "execution_count": 4,
   "metadata": {
    "collapsed": true
   },
   "outputs": [],
   "source": [
    "def set_column_width():\n",
    "    pd.set_option('display.max_colwidth', -1)"
   ]
  },
  {
   "cell_type": "markdown",
   "metadata": {
    "_uuid": "eb0aa88348628f836f335c763711dfab504fba43",
    "extensions": {
     "jupyter_dashboards": {
      "version": 1,
      "views": {
       "grid_default": {
        "col": 0,
        "height": 4,
        "hidden": false,
        "row": 123,
        "width": 12
       },
       "report_default": {}
      }
     }
    }
   },
   "source": [
    "#### <font color=\"blue\">Load Dataset</font> \n",
    "Load the dataset files into pandas dataframe. I am using projects dataset for the purpose of this project which resides in the io folder "
   ]
  },
  {
   "cell_type": "code",
   "execution_count": 5,
   "metadata": {
    "_uuid": "7e3d00d1087f844c681bd8a235a40dfb27455b0c",
    "extensions": {
     "jupyter_dashboards": {
      "version": 1,
      "views": {
       "grid_default": {
        "hidden": true
       },
       "report_default": {}
      }
     }
    },
    "scrolled": true
   },
   "outputs": [
    {
     "data": {
      "text/html": [
       "<div>\n",
       "<style>\n",
       "    .dataframe thead tr:only-child th {\n",
       "        text-align: right;\n",
       "    }\n",
       "\n",
       "    .dataframe thead th {\n",
       "        text-align: left;\n",
       "    }\n",
       "\n",
       "    .dataframe tbody tr th {\n",
       "        vertical-align: top;\n",
       "    }\n",
       "</style>\n",
       "<table border=\"1\" class=\"dataframe\">\n",
       "  <thead>\n",
       "    <tr style=\"text-align: right;\">\n",
       "      <th></th>\n",
       "      <th>Project ID</th>\n",
       "      <th>School ID</th>\n",
       "      <th>Teacher ID</th>\n",
       "      <th>Teacher Project Posted Sequence</th>\n",
       "      <th>Project Type</th>\n",
       "      <th>Project Title</th>\n",
       "      <th>Project Essay</th>\n",
       "      <th>Project Short Description</th>\n",
       "      <th>Project Need Statement</th>\n",
       "      <th>Project Subject Category Tree</th>\n",
       "      <th>Project Subject Subcategory Tree</th>\n",
       "      <th>Project Grade Level Category</th>\n",
       "      <th>Project Resource Category</th>\n",
       "      <th>Project Cost</th>\n",
       "      <th>Project Posted Date</th>\n",
       "      <th>Project Expiration Date</th>\n",
       "      <th>Project Current Status</th>\n",
       "      <th>Project Fully Funded Date</th>\n",
       "    </tr>\n",
       "  </thead>\n",
       "  <tbody>\n",
       "    <tr>\n",
       "      <th>0</th>\n",
       "      <td>7685f0265a19d7b52a470ee4bac883ba</td>\n",
       "      <td>e180c7424cb9c68cb49f141b092a988f</td>\n",
       "      <td>4ee5200e89d9e2998ec8baad8a3c5968</td>\n",
       "      <td>25</td>\n",
       "      <td>Teacher-Led</td>\n",
       "      <td>Stand Up to Bullying: Together We Can!</td>\n",
       "      <td>Did you know that 1-7 students in grades K-12 ...</td>\n",
       "      <td>Did you know that 1-7 students in grades K-12 ...</td>\n",
       "      <td>My students need 25 copies of \"Bullying in Sch...</td>\n",
       "      <td>Applied Learning</td>\n",
       "      <td>Character Education, Early Development</td>\n",
       "      <td>Grades PreK-2</td>\n",
       "      <td>Technology</td>\n",
       "      <td>361.80</td>\n",
       "      <td>2013-01-01</td>\n",
       "      <td>2013-05-30</td>\n",
       "      <td>Fully Funded</td>\n",
       "      <td>2013-01-11</td>\n",
       "    </tr>\n",
       "    <tr>\n",
       "      <th>1</th>\n",
       "      <td>f9f4af7099061fb4bf44642a03e5c331</td>\n",
       "      <td>08b20f1e2125103ed7aa17e8d76c71d4</td>\n",
       "      <td>cca2d1d277fb4adb50147b49cdc3b156</td>\n",
       "      <td>3</td>\n",
       "      <td>Teacher-Led</td>\n",
       "      <td>Learning in Color!</td>\n",
       "      <td>Help us have a fun, interactive listening cent...</td>\n",
       "      <td>Help us have a fun, interactive listening cent...</td>\n",
       "      <td>My students need a listening center, read alon...</td>\n",
       "      <td>Applied Learning, Literacy &amp; Language</td>\n",
       "      <td>Early Development, Literacy</td>\n",
       "      <td>Grades PreK-2</td>\n",
       "      <td>Technology</td>\n",
       "      <td>512.85</td>\n",
       "      <td>2013-01-01</td>\n",
       "      <td>2013-05-31</td>\n",
       "      <td>Expired</td>\n",
       "      <td>NaN</td>\n",
       "    </tr>\n",
       "    <tr>\n",
       "      <th>2</th>\n",
       "      <td>afd99a01739ad5557b51b1ba0174e832</td>\n",
       "      <td>1287f5128b1f36bf8434e5705a7cc04d</td>\n",
       "      <td>6c5bd0d4f20547a001628aefd71de89e</td>\n",
       "      <td>1</td>\n",
       "      <td>Teacher-Led</td>\n",
       "      <td>Help Second Grade ESL Students Develop Languag...</td>\n",
       "      <td>Visiting or moving to a new place can be very ...</td>\n",
       "      <td>Visiting or moving to a new place can be very ...</td>\n",
       "      <td>My students need beginning vocabulary audio ca...</td>\n",
       "      <td>Literacy &amp; Language</td>\n",
       "      <td>ESL</td>\n",
       "      <td>Grades PreK-2</td>\n",
       "      <td>Supplies</td>\n",
       "      <td>435.92</td>\n",
       "      <td>2013-01-01</td>\n",
       "      <td>2013-05-30</td>\n",
       "      <td>Fully Funded</td>\n",
       "      <td>2013-05-22</td>\n",
       "    </tr>\n",
       "    <tr>\n",
       "      <th>3</th>\n",
       "      <td>c614a38bb1a5e68e2ae6ad9d94bb2492</td>\n",
       "      <td>900fec9cd7a3188acbc90586a09584ef</td>\n",
       "      <td>8ed6f8181d092a8f4c008b18d18e54ad</td>\n",
       "      <td>40</td>\n",
       "      <td>Teacher-Led</td>\n",
       "      <td>Help Bilingual Students Strengthen Reading Com...</td>\n",
       "      <td>Students at our school are still working hard ...</td>\n",
       "      <td>Students at our school are still working hard ...</td>\n",
       "      <td>My students need one copy of each book in The ...</td>\n",
       "      <td>Literacy &amp; Language</td>\n",
       "      <td>ESL, Literacy</td>\n",
       "      <td>Grades 3-5</td>\n",
       "      <td>Books</td>\n",
       "      <td>161.26</td>\n",
       "      <td>2013-01-01</td>\n",
       "      <td>2013-05-31</td>\n",
       "      <td>Fully Funded</td>\n",
       "      <td>2013-02-06</td>\n",
       "    </tr>\n",
       "    <tr>\n",
       "      <th>4</th>\n",
       "      <td>ec82a697fab916c0db0cdad746338df9</td>\n",
       "      <td>3b200e7fe3e6dde3c169c02e5fb5ae86</td>\n",
       "      <td>893173d62775f8be7c30bf4220ad0c33</td>\n",
       "      <td>2</td>\n",
       "      <td>Teacher-Led</td>\n",
       "      <td>Help Us Make Each Minute Count!</td>\n",
       "      <td>\"Idle hands\" were something that Issac Watts s...</td>\n",
       "      <td>\"Idle hands\" were something that Issac Watts s...</td>\n",
       "      <td>My students need items such as Velcro, two pou...</td>\n",
       "      <td>Special Needs</td>\n",
       "      <td>Special Needs</td>\n",
       "      <td>Grades 3-5</td>\n",
       "      <td>Supplies</td>\n",
       "      <td>264.19</td>\n",
       "      <td>2013-01-01</td>\n",
       "      <td>2013-05-30</td>\n",
       "      <td>Fully Funded</td>\n",
       "      <td>2013-01-01</td>\n",
       "    </tr>\n",
       "  </tbody>\n",
       "</table>\n",
       "</div>"
      ],
      "text/plain": [
       "                         Project ID                         School ID                        Teacher ID  Teacher Project Posted Sequence Project Type                                      Project Title                                      Project Essay                          Project Short Description                             Project Need Statement          Project Subject Category Tree        Project Subject Subcategory Tree Project Grade Level Category Project Resource Category  Project Cost Project Posted Date Project Expiration Date Project Current Status Project Fully Funded Date\n",
       "0  7685f0265a19d7b52a470ee4bac883ba  e180c7424cb9c68cb49f141b092a988f  4ee5200e89d9e2998ec8baad8a3c5968                               25  Teacher-Led             Stand Up to Bullying: Together We Can!  Did you know that 1-7 students in grades K-12 ...  Did you know that 1-7 students in grades K-12 ...  My students need 25 copies of \"Bullying in Sch...                       Applied Learning  Character Education, Early Development                Grades PreK-2                Technology        361.80          2013-01-01              2013-05-30           Fully Funded                2013-01-11\n",
       "1  f9f4af7099061fb4bf44642a03e5c331  08b20f1e2125103ed7aa17e8d76c71d4  cca2d1d277fb4adb50147b49cdc3b156                                3  Teacher-Led                                 Learning in Color!  Help us have a fun, interactive listening cent...  Help us have a fun, interactive listening cent...  My students need a listening center, read alon...  Applied Learning, Literacy & Language             Early Development, Literacy                Grades PreK-2                Technology        512.85          2013-01-01              2013-05-31                Expired                       NaN\n",
       "2  afd99a01739ad5557b51b1ba0174e832  1287f5128b1f36bf8434e5705a7cc04d  6c5bd0d4f20547a001628aefd71de89e                                1  Teacher-Led  Help Second Grade ESL Students Develop Languag...  Visiting or moving to a new place can be very ...  Visiting or moving to a new place can be very ...  My students need beginning vocabulary audio ca...                    Literacy & Language                                     ESL                Grades PreK-2                  Supplies        435.92          2013-01-01              2013-05-30           Fully Funded                2013-05-22\n",
       "3  c614a38bb1a5e68e2ae6ad9d94bb2492  900fec9cd7a3188acbc90586a09584ef  8ed6f8181d092a8f4c008b18d18e54ad                               40  Teacher-Led  Help Bilingual Students Strengthen Reading Com...  Students at our school are still working hard ...  Students at our school are still working hard ...  My students need one copy of each book in The ...                    Literacy & Language                           ESL, Literacy                   Grades 3-5                     Books        161.26          2013-01-01              2013-05-31           Fully Funded                2013-02-06\n",
       "4  ec82a697fab916c0db0cdad746338df9  3b200e7fe3e6dde3c169c02e5fb5ae86  893173d62775f8be7c30bf4220ad0c33                                2  Teacher-Led                   Help Us Make Each Minute Count!   \"Idle hands\" were something that Issac Watts s...  \"Idle hands\" were something that Issac Watts s...  My students need items such as Velcro, two pou...                          Special Needs                           Special Needs                   Grades 3-5                  Supplies        264.19          2013-01-01              2013-05-30           Fully Funded                2013-01-01"
      ]
     },
     "execution_count": 5,
     "metadata": {},
     "output_type": "execute_result"
    }
   ],
   "source": [
    "path = \"./io/\"\n",
    "projects_df = pd.read_csv(path +\"Projects.csv\")\n",
    "set_pd_options()\n",
    "projects_df.head()"
   ]
  },
  {
   "cell_type": "markdown",
   "metadata": {},
   "source": [
    "#### <font color=\"blue\">Cleanup Dataset</font> \n",
    "Cleanup the dataset to enable the data to be used correctly."
   ]
  },
  {
   "cell_type": "code",
   "execution_count": 6,
   "metadata": {
    "_kg_hide-output": true,
    "_uuid": "b6b17f374f3079f703acaf78945b1ffd12f078a5",
    "extensions": {
     "jupyter_dashboards": {
      "version": 1,
      "views": {
       "grid_default": {
        "col": 0,
        "height": 4,
        "hidden": false,
        "row": 131,
        "width": 4
       },
       "report_default": {}
      }
     }
    }
   },
   "outputs": [
    {
     "name": "stdout",
     "output_type": "stream",
     "text": [
      "Index(['Project ID', 'School ID', 'Teacher ID', 'Teacher Project Posted Sequence', 'Project Type', 'Project Title', 'Project Essay', 'Project Short Description', 'Project Need Statement', 'Project Subject Category Tree', 'Project Subject Subcategory Tree', 'Project Grade Level Category', 'Project Resource Category', 'Project Cost', 'Project Posted Date', 'Project Expiration Date', 'Project Current Status', 'Project Fully Funded Date', 'cost', 'Posted Date', 'Posted Year', 'Posted Month'], dtype='object')\n"
     ]
    }
   ],
   "source": [
    "# clean up missing values\n",
    "projects_df['Project Essay'].fillna(\"\", inplace = True)\n",
    "projects_df['Project Short Description'].fillna(\"\", inplace = True)\n",
    "\n",
    "## Create some additional features in projects data\n",
    "projects_df['cost'] = projects_df['Project Cost']\\\n",
    "                      .apply(lambda x : float(str(x).replace(\"$\",\"\").replace(\",\",\"\")))\n",
    "projects_df['Posted Date'] = pd.to_datetime(projects_df['Project Posted Date'])\n",
    "projects_df['Posted Year'] = projects_df['Posted Date'].dt.year\n",
    "projects_df['Posted Month'] = projects_df['Posted Date'].dt.month\n",
    "\n",
    "print(projects_df.columns)"
   ]
  },
  {
   "cell_type": "markdown",
   "metadata": {},
   "source": [
    "#### <font color=\"blue\">Query Fields of Interest</font> \n",
    "We need to identify the project current status whch will determine whether or a project needs to be identified with related projects."
   ]
  },
  {
   "cell_type": "code",
   "execution_count": 7,
   "metadata": {},
   "outputs": [
    {
     "name": "stdout",
     "output_type": "stream",
     "text": [
      "Unique Project Statuses ['Fully Funded' 'Expired' 'Live']\n"
     ]
    },
    {
     "data": {
      "text/plain": [
       "<matplotlib.axes._subplots.AxesSubplot at 0x1a4c17f320>"
      ]
     },
     "execution_count": 7,
     "metadata": {},
     "output_type": "execute_result"
    },
    {
     "data": {
      "image/png": "[encoded data removed]",
      "text/plain": [
       "<matplotlib.figure.Figure at 0x10ab3bcc0>"
      ]
     },
     "metadata": {},
     "output_type": "display_data"
    }
   ],
   "source": [
    "print(\"Unique Project Statuses\", projects_df['Project Current Status'].unique())\n",
    "projects_df[\"Posted Year\"].plot(kind='hist')"
   ]
  },
  {
   "cell_type": "markdown",
   "metadata": {},
   "source": [
    "#### <font color=\"blue\">Find record counts for Project Current Status Column</font> \n",
    "We need to identify the record count associated with project current status."
   ]
  },
  {
   "cell_type": "code",
   "execution_count": 8,
   "metadata": {
    "_uuid": "2725db4040dd05615cfdfee7e2b3d0f0b4aa4534"
   },
   "outputs": [
    {
     "name": "stdout",
     "output_type": "stream",
     "text": [
      "                        Project ID\n",
      "Project Current Status            \n",
      "Expired                     241402\n",
      "Fully Funded                826764\n",
      "Live                         41851\n"
     ]
    }
   ],
   "source": [
    "print(projects_df[[\"Project ID\", 'Project Current Status']].groupby('Project Current Status').count())"
   ]
  },
  {
   "cell_type": "markdown",
   "metadata": {},
   "source": [
    "#### <font color=\"blue\">Pick records with Project Current Status Column with Live values</font> \n",
    "The user is presented with live projects and this project is being done with the sole purpose of presenting the users with associated projects. Here we picking up projects which have project current status  as live."
   ]
  },
  {
   "cell_type": "code",
   "execution_count": 9,
   "metadata": {
    "_uuid": "bc48f47ec4bf706b43b471690bb7e1c2676ac872"
   },
   "outputs": [
    {
     "name": "stdout",
     "output_type": "stream",
     "text": [
      "size of active project (41851, 23)\n"
     ]
    }
   ],
   "source": [
    "active_projects_df=projects_df[projects_df['Project Current Status']=='Live']\n",
    "active_projects_df.reset_index(inplace=True)\n",
    "del projects_df\n",
    "gc.collect()\n",
    "print(\"size of active project\", active_projects_df.shape)"
   ]
  },
  {
   "cell_type": "markdown",
   "metadata": {},
   "source": [
    "#### <font color=\"blue\">verify that column Project Essay has correct number of records with Project Current Status Column with Live values</font> \n",
    "The number of records with project essay is consistent with total records with project current status as live"
   ]
  },
  {
   "cell_type": "code",
   "execution_count": 10,
   "metadata": {
    "_uuid": "2725db4040dd05615cfdfee7e2b3d0f0b4aa4534"
   },
   "outputs": [
    {
     "name": "stdout",
     "output_type": "stream",
     "text": [
      "                        Project Short Description  Project Essay\n",
      "Project Current Status                                          \n",
      "Live                                        41851          41851\n"
     ]
    }
   ],
   "source": [
    "print(active_projects_df[['Project Short Description', 'Project Essay', 'Project Current Status']].groupby('Project Current Status').count())"
   ]
  },
  {
   "cell_type": "markdown",
   "metadata": {
    "_uuid": "d711df080f69d249372380e841d1a08cd190eb13",
    "extensions": {
     "jupyter_dashboards": {
      "version": 1,
      "views": {
       "grid_default": {
        "col": 0,
        "height": 4,
        "hidden": false,
        "row": 127,
        "width": 12
       },
       "report_default": {}
      }
     }
    }
   },
   "source": [
    "#### <font color=\"blue\">Display the number of years spanned by the records with project current status</font>\n",
    "\n",
    "Display the number of year spanned by records having project current status as live "
   ]
  },
  {
   "cell_type": "code",
   "execution_count": 11,
   "metadata": {
    "_uuid": "94e5dedfdf419af5791cd062629dd1a51f3817a8"
   },
   "outputs": [
    {
     "data": {
      "text/plain": [
       "<matplotlib.axes._subplots.AxesSubplot at 0x10abb24a8>"
      ]
     },
     "execution_count": 11,
     "metadata": {},
     "output_type": "execute_result"
    },
    {
     "data": {
      "image/png": "[encoded data removed]",
      "text/plain": [
       "<matplotlib.figure.Figure at 0x10e395898>"
      ]
     },
     "metadata": {},
     "output_type": "display_data"
    }
   ],
   "source": [
    "active_projects_df[\"Posted Year\"].plot(kind='hist')"
   ]
  },
  {
   "cell_type": "markdown",
   "metadata": {},
   "source": [
    "#### <font color=\"blue\">Derive all the values of project essay column </font>\n",
    "\n",
    "Derive the project essay column values to be used for cosine similarity"
   ]
  },
  {
   "cell_type": "code",
   "execution_count": 12,
   "metadata": {
    "_kg_hide-input": false,
    "_kg_hide-output": false,
    "_uuid": "11564b1101faf0d16a331500679b4ff66e53362c",
    "extensions": {
     "jupyter_dashboards": {
      "version": 1,
      "views": {
       "grid_default": {
        "hidden": true
       },
       "report_default": {}
      }
     }
    }
   },
   "outputs": [
    {
     "name": "stdout",
     "output_type": "stream",
     "text": [
      "4    My students have chosen to be a part of a small charter school that was founded on principles of hard work, determination, and the betterment of education. \\nMy music program is only four years...My students have chosen to be a part of a small charter school that was founded on principles of hard work, determination, and the betterment of education. \\nMy music program is only four years old, but we are growing quickly. In the last two years, our music program has tripled in size! The students are joining in great numbers because they want to be a part of something bigger, and they want to be inspired daily.  \\n\\nUnfortunately, with such fast growth in the music program, we are unable to keep up financially with the demand from young musicians. We need your help to give these students the education they deserve. \\n\\nWe are adventurers and we are learners.<!--DONOTREMOVEESSAYDIVIDER-->Our music program is new, and we are working towards getting basic supplies for our students. One of these music program basics is music folders for our choir students. These music folders will keep the music organized, but will also keep it safe. Music is expensive, and we can't afford for any of it to go missing, or get ruined. Right now the kids don't have music folders and so it is difficult for them to take the music home and practice. If we could get these music folders, eventually thousands of students in my choir would benefit greatly from them as we use them for years to come.  <!--DONOTREMOVEESSAYDIVIDER-->\n",
      "dtype: object\n"
     ]
    }
   ],
   "source": [
    "set_column_width()\n",
    "project_essay = active_projects_df['Project Short Description'] + active_projects_df['Project Essay']\n",
    "print(project_essay[4:5])"
   ]
  },
  {
   "cell_type": "markdown",
   "metadata": {
    "_uuid": "ca32095f74ca522c711d300a8e197e2a98dbec70",
    "extensions": {
     "jupyter_dashboards": {
      "version": 1,
      "views": {
       "grid_default": {
        "col": 4,
        "height": 4,
        "hidden": false,
        "row": 131,
        "width": 4
       },
       "report_default": {}
      }
     }
    }
   },
   "source": [
    " #### <font color=\"blue\">Train project essay values </font>\n",
    "\n",
    "Using TfidfVectorizer train the project_essay values to derive tfidf_matrix"
   ]
  },
  {
   "cell_type": "code",
   "execution_count": 13,
   "metadata": {
    "_kg_hide-output": true,
    "_uuid": "79c6adbd2f865ad561e6c4314bf1ee4f0d2ebd19",
    "collapsed": true,
    "extensions": {
     "jupyter_dashboards": {
      "version": 1,
      "views": {
       "grid_default": {
        "hidden": true
       },
       "report_default": {}
      }
     }
    },
    "scrolled": false
   },
   "outputs": [],
   "source": [
    "vectorizer = TfidfVectorizer(strip_accents='unicode', \n",
    "                     analyzer='word', \n",
    "                     lowercase=True, # Convert all uppercase to lowercase\n",
    "                     stop_words='english', # Remove common English words\n",
    "                     sublinear_tf=False, # use linear weightage for term frequency\n",
    "                     max_df = 0.9)\n",
    "tfidf_matrix =  vectorizer.fit_transform(project_essay)"
   ]
  },
  {
   "cell_type": "markdown",
   "metadata": {
    "_uuid": "f2fff6611b2cde78bc86d992a94b2399afcbccda",
    "extensions": {
     "jupyter_dashboards": {
      "version": 1,
      "views": {
       "grid_default": {
        "col": 0,
        "height": 4,
        "hidden": false,
        "row": 158,
        "width": 12
       },
       "report_default": {}
      }
     }
    }
   },
   "source": [
    " #### <font color=\"blue\">Utility method to derive the project id </font>\n",
    "\n",
    "Given an index, the method identifies the project id associated with this index"
   ]
  },
  {
   "cell_type": "code",
   "execution_count": 14,
   "metadata": {
    "_uuid": "cf6faa04b25e953c13d3da24567dd4152a96a207",
    "collapsed": true
   },
   "outputs": [],
   "source": [
    "def get_project_id(index):\n",
    "    return active_projects_df.at[index,  'Project ID']"
   ]
  },
  {
   "cell_type": "markdown",
   "metadata": {},
   "source": [
    " #### <font color=\"blue\">Given an index, this function will return all the related projects</font>\n",
    "\n",
    "Given an index as a parameter, this function will return all the related projects using the tfidf_matrix derived earlier\n"
   ]
  },
  {
   "cell_type": "code",
   "execution_count": 15,
   "metadata": {
    "_uuid": "f7bf425b2e3d07ac59662ba54dc011546813bd0b",
    "collapsed": true,
    "extensions": {
     "jupyter_dashboards": {
      "version": 1,
      "views": {
       "grid_default": {
        "hidden": true
       },
       "report_default": {}
      }
     }
    }
   },
   "outputs": [],
   "source": [
    "def get_similar_projects(index):\n",
    "    cosine_similarities = linear_kernel(tfidf_matrix[index:index+1], \\\n",
    "                                        tfidf_matrix).flatten()\n",
    "    related_docs_indices = [i for i in cosine_similarities.argsort()\\\n",
    "                            [::-1][:top_n + 1] if i != index]  \n",
    "    list_data=[( get_project_id(index), get_project_id(row_index), \\\n",
    "                round(cosine_similarities[row_index], round_digits)) \\\n",
    "               for row_index in related_docs_indices[0:top_n]]\n",
    "    return list_data"
   ]
  },
  {
   "cell_type": "markdown",
   "metadata": {},
   "source": [
    " #### <font color=\"blue\">Given a DataFrame, it iterates thru the rows to derive the related projects  </font>\n",
    "\n",
    "Given a DataFrame, it iterates thru the rows to derive the related projects. This is utilized in the context of paritioning the dataframe and process them independently"
   ]
  },
  {
   "cell_type": "code",
   "execution_count": 16,
   "metadata": {
    "collapsed": true
   },
   "outputs": [],
   "source": [
    "def find_similar_projects(data_frame):\n",
    "    output=[]\n",
    "    for index in tqdm(data_frame.index.values.tolist()):    \n",
    "#     for index in tqdm(data_frame.index.values[:1000]):\n",
    "        project_list=get_similar_projects(index)\n",
    "        output.extend(project_list)\n",
    "    return pd.DataFrame(output, columns=output_columns)"
   ]
  },
  {
   "cell_type": "markdown",
   "metadata": {},
   "source": [
    " #### <font color=\"blue\">The function will parallel process the dataframe </font>\n",
    "\n",
    "The function will parallel process the dataframe by partioning it and process them parallely using multiprocessing pool"
   ]
  },
  {
   "cell_type": "code",
   "execution_count": 17,
   "metadata": {
    "collapsed": true
   },
   "outputs": [],
   "source": [
    "def parallel_process_dataframe(df, func):\n",
    "    df_split = np.array_split(df, num_partitions)\n",
    "    pool = Pool(num_cores)\n",
    "    df = pd.concat(pool.map(func, df_split))\n",
    "    pool.close()\n",
    "    pool.join()\n",
    "    return df"
   ]
  },
  {
   "cell_type": "markdown",
   "metadata": {},
   "source": [
    " #### <font color=\"blue\">This procedure invokes paralel processing of dataframe</font>\n",
    "\n",
    "This procedure invokes paralel processing of dataframe by passing active_projects_df and the function name to used for parallel processing to derive the related projects"
   ]
  },
  {
   "cell_type": "code",
   "execution_count": 18,
   "metadata": {},
   "outputs": [
    {
     "name": "stderr",
     "output_type": "stream",
     "text": [
      "100%|██████████| 1047/1047 [01:00<00:00, 17.26it/s]\n",
      "100%|██████████| 1047/1047 [01:01<00:00, 19.33it/s]\n",
      "100%|██████████| 1047/1047 [01:04<00:00, 16.33it/s]\n",
      "100%|██████████| 1047/1047 [01:04<00:00, 18.35it/s]\n",
      "100%|██████████| 1047/1047 [00:58<00:00, 17.79it/s]\n",
      "100%|██████████| 1047/1047 [00:59<00:00, 17.50it/s]\n",
      "100%|██████████| 1047/1047 [01:02<00:00, 17.24it/s]\n",
      "100%|██████████| 1047/1047 [01:02<00:00, 16.67it/s]\n",
      "100%|██████████| 1047/1047 [00:59<00:00, 19.22it/s]\n",
      "100%|██████████| 1047/1047 [01:01<00:00, 17.14it/s]\n",
      "100%|██████████| 1047/1047 [00:58<00:00, 18.81it/s]\n",
      "100%|██████████| 1046/1046 [00:59<00:00, 17.55it/s]\n",
      "100%|██████████| 1046/1046 [01:01<00:00, 17.05it/s]\n",
      "100%|██████████| 1046/1046 [01:02<00:00, 16.83it/s]\n",
      "100%|██████████| 1046/1046 [01:01<00:00, 17.39it/s]\n",
      "100%|██████████| 1046/1046 [01:02<00:00, 16.06it/s]\n",
      "100%|██████████| 1046/1046 [00:58<00:00, 15.51it/s]\n",
      "100%|██████████| 1046/1046 [00:59<00:00, 15.15it/s]\n",
      "100%|██████████| 1046/1046 [01:06<00:00, 16.13it/s]\n",
      "100%|██████████| 1046/1046 [01:08<00:00, 15.36it/s]\n",
      "100%|██████████| 1046/1046 [01:03<00:00, 16.46it/s]\n",
      "100%|██████████| 1046/1046 [01:06<00:00, 17.37it/s]\n",
      "100%|██████████| 1046/1046 [01:02<00:00, 18.54it/s]\n",
      "100%|██████████| 1046/1046 [01:00<00:00, 18.40it/s]\n",
      "100%|██████████| 1046/1046 [01:01<00:00, 16.69it/s]\n",
      "100%|██████████| 1046/1046 [01:04<00:00, 16.15it/s]\n",
      "100%|██████████| 1046/1046 [01:10<00:00, 14.80it/s]\n",
      "100%|██████████| 1046/1046 [01:14<00:00, 13.96it/s]\n",
      "100%|██████████| 1046/1046 [01:09<00:00, 15.11it/s]\n",
      "100%|██████████| 1046/1046 [01:07<00:00, 15.69it/s]\n",
      "100%|██████████| 1046/1046 [01:05<00:00, 16.03it/s]\n",
      "100%|██████████| 1046/1046 [01:05<00:00, 15.42it/s]\n",
      "100%|██████████| 1046/1046 [01:06<00:00, 16.00it/s]\n",
      "100%|██████████| 1046/1046 [01:06<00:00, 15.66it/s]\n",
      "100%|██████████| 1046/1046 [01:05<00:00, 16.08it/s]\n",
      "100%|██████████| 1046/1046 [01:06<00:00, 15.95it/s]\n",
      "100%|██████████| 1046/1046 [01:08<00:00, 15.88it/s]\n",
      "100%|██████████| 1046/1046 [01:08<00:00, 15.70it/s]\n",
      "100%|██████████| 1046/1046 [01:07<00:00, 15.30it/s]\n",
      "100%|██████████| 1046/1046 [01:04<00:00, 19.15it/s]\n"
     ]
    },
    {
     "name": "stdout",
     "output_type": "stream",
     "text": [
      "(209255, 3)\n",
      "                          Project ID                Related Project ID  Cosine Similarity\n",
      "0   486b625006d71ab21f8592463608e42d  8465aafe5f00b6937d9e251f96ac2d7d  0.30             \n",
      "1   486b625006d71ab21f8592463608e42d  6dab3d09d42c37a10a8842e9d6b3e40d  0.30             \n",
      "2   486b625006d71ab21f8592463608e42d  785f90f2228eb19c83f7b2e3638ca888  0.30             \n",
      "3   486b625006d71ab21f8592463608e42d  8d167a560d79a6190cf2136a75d8fd00  0.30             \n",
      "4   486b625006d71ab21f8592463608e42d  51c1892a679be303cf9fc7e2b5a00ef0  0.28             \n",
      "5   d386d5f58d0388b62b7a7b06e99d1afb  90388cc252d97ed91446b56562b9e3f9  0.32             \n",
      "6   d386d5f58d0388b62b7a7b06e99d1afb  67ac18693559e72c195c22eada4ac3c1  0.27             \n",
      "7   d386d5f58d0388b62b7a7b06e99d1afb  f5011a9816695807c8990af6618a44f8  0.26             \n",
      "8   d386d5f58d0388b62b7a7b06e99d1afb  e32251cf79b3bb2f2cdc55350b5b459a  0.22             \n",
      "9   d386d5f58d0388b62b7a7b06e99d1afb  72f10e4da5b68fa138ab96c6f5d6f55a  0.22             \n",
      "10  abd2631ada10761150684d6a4948c802  a970f22fba20601094d1b1c722b47626  0.38             \n",
      "11  abd2631ada10761150684d6a4948c802  a4f5aa5b36aa7d3abc35f6e29c2656d5  0.38             \n",
      "12  abd2631ada10761150684d6a4948c802  0e66290bc7e9b691e3d65bfa95902e47  0.33             \n",
      "13  abd2631ada10761150684d6a4948c802  3f387acdfdd0ab40d5b3b5e910f935ce  0.33             \n",
      "14  abd2631ada10761150684d6a4948c802  04cfcc1923ef5ea7d84c54dcb981eca4  0.33             \n",
      "15  af65b9205616bd482d94de31648d6cd1  44835355fcbab1721d49be26cb7dad31  0.91             \n",
      "16  af65b9205616bd482d94de31648d6cd1  a531e6ff4d02e8af2450b105dd869f46  0.42             \n",
      "17  af65b9205616bd482d94de31648d6cd1  3196596dca23769ba2b8ec73a37bfe43  0.37             \n",
      "18  af65b9205616bd482d94de31648d6cd1  2016dcbbb69d9ac02f383c665505cb7d  0.36             \n",
      "19  af65b9205616bd482d94de31648d6cd1  0dc51266ce031b0997689ea3d0ed89d1  0.36             \n"
     ]
    }
   ],
   "source": [
    "related_projects_df = parallel_process_dataframe(active_projects_df, find_similar_projects)\n",
    "print(related_projects_df.shape)\n",
    "print(related_projects_df.head(20))"
   ]
  },
  {
   "cell_type": "markdown",
   "metadata": {
    "_uuid": "a26e3e8a607b555d910a97f74964b1f0975aca64",
    "extensions": {
     "jupyter_dashboards": {
      "version": 1,
      "views": {
       "grid_default": {
        "col": 8,
        "height": 4,
        "hidden": false,
        "row": 131,
        "width": 4
       },
       "report_default": {}
      }
     }
    }
   },
   "source": [
    " #### <font color=\"blue\">Peristence of related projects data frame</font>\n",
    " Here we  save the results as a file. However, in real life situations, it can be persisted in a database."
   ]
  },
  {
   "cell_type": "code",
   "execution_count": 19,
   "metadata": {
    "_uuid": "a458d13eae11be1ee5e49e6205c744cd3461b7bb",
    "collapsed": true
   },
   "outputs": [],
   "source": [
    "related_projects_df.to_csv(path +\"Related Projects.csv\")"
   ]
  },
  {
   "cell_type": "markdown",
   "metadata": {},
   "source": [
    " #### <font color=\"blue\">Merging of active_projects_df with related_projects_df </font>\n",
    "Here we apply apply minimum cosine similarity score & merge of active_projects_df with related_projects_df to derive the overall dataset to show related projects in the context of projects dataframe"
   ]
  },
  {
   "cell_type": "code",
   "execution_count": 20,
   "metadata": {
    "collapsed": true
   },
   "outputs": [],
   "source": [
    "related_projects_df = related_projects_df[related_projects_df['Cosine Similarity'] > cos_filter_score]\n",
    "merged_df=active_projects_df.merge( related_projects_df, on='Project ID', how='inner')"
   ]
  },
  {
   "cell_type": "markdown",
   "metadata": {},
   "source": [
    " #### <font color=\"blue\">show the results of merged dataset sample </font>\n"
   ]
  },
  {
   "cell_type": "code",
   "execution_count": 21,
   "metadata": {},
   "outputs": [
    {
     "data": {
      "text/html": [
       "<div>\n",
       "<style>\n",
       "    .dataframe thead tr:only-child th {\n",
       "        text-align: right;\n",
       "    }\n",
       "\n",
       "    .dataframe thead th {\n",
       "        text-align: left;\n",
       "    }\n",
       "\n",
       "    .dataframe tbody tr th {\n",
       "        vertical-align: top;\n",
       "    }\n",
       "</style>\n",
       "<table border=\"1\" class=\"dataframe\">\n",
       "  <thead>\n",
       "    <tr style=\"text-align: right;\">\n",
       "      <th></th>\n",
       "      <th>index</th>\n",
       "      <th>Project ID</th>\n",
       "      <th>School ID</th>\n",
       "      <th>Teacher ID</th>\n",
       "      <th>Teacher Project Posted Sequence</th>\n",
       "      <th>Project Type</th>\n",
       "      <th>Project Title</th>\n",
       "      <th>Project Essay</th>\n",
       "      <th>Project Short Description</th>\n",
       "      <th>Project Need Statement</th>\n",
       "      <th>Project Subject Category Tree</th>\n",
       "      <th>Project Subject Subcategory Tree</th>\n",
       "      <th>Project Grade Level Category</th>\n",
       "      <th>Project Resource Category</th>\n",
       "      <th>Project Cost</th>\n",
       "      <th>Project Posted Date</th>\n",
       "      <th>Project Expiration Date</th>\n",
       "      <th>Project Current Status</th>\n",
       "      <th>Project Fully Funded Date</th>\n",
       "      <th>cost</th>\n",
       "      <th>Posted Date</th>\n",
       "      <th>Posted Year</th>\n",
       "      <th>Posted Month</th>\n",
       "      <th>Related Project ID</th>\n",
       "      <th>Cosine Similarity</th>\n",
       "    </tr>\n",
       "  </thead>\n",
       "  <tbody>\n",
       "    <tr>\n",
       "      <th>0</th>\n",
       "      <td>1045742</td>\n",
       "      <td>af65b9205616bd482d94de31648d6cd1</td>\n",
       "      <td>a32fcd039389bde710c4c648e326fcd9</td>\n",
       "      <td>3dfc673e3d9f2b0fdce11431b3923a7c</td>\n",
       "      <td>3</td>\n",
       "      <td>Teacher-Led</td>\n",
       "      <td>Help Us Get Our Apps Together!</td>\n",
       "      <td>As a teacher in a low-income/high poverty school district in Chicago , my students are faced with several challenges both in and out of the classroom. My students are diverse learners who have communication and learning disorders. They are lovable, energetic kids who need new technology to allow them the opportunity to communicate and learn. Some have autism, some have receptive and/or expressive language deficits, and some have articulation disorders that make them hard to understand.  Despite the many challenges they face, I am looking to keep things simple and provide my students with creative and meaningful learning experiences.  \\n\\n My students thrive on using apps that are interactive for them to learn on.  While we have gotten a couple of new iPads, we need more so every child is able to have their own iPad to differentiate their learning experiences while at school. &lt;!--DONOTREMOVEESSAYDIVIDER--&gt;I work hard to make our time engaging and fun while at the same time working on improving instruction and communication skills. We have a first generation iPads that no longer supports apps and is completely obsolete. The iPads will not run any of my apps that I have researched to use with my students. My students respond to technology and the students use these iPads during the time that they are working on their learning plan. These are times of free choice to decide on what they are going to learn and one out of four opportunities a day they try to use the iPads to engage in apps that teach them literacy and math skills while I work independently with other students. Using the iPad makes learning feel less like schoolwork and more fun while still helping them work towards mastering our skills we need to learn in Kindergarten. I plan on using apps specifically targeting literacy (reading) and math along with other educational standards they need to learn. The iPad case will help to ensure that all students of various ages and disabilities are able to enjoy the iPad without breaking if accidentally dropped.  Some of the students need to use the iPads during transitions so they are engaged in an activity while walking down the halls.  The case will help protect the iPad during in mishaps.&lt;!--DONOTREMOVEESSAYDIVIDER--&gt;</td>\n",
       "      <td>As a teacher in a low-income/high poverty school district in Chicago , my students are faced with several challenges both in and out of the classroom. My students are diverse learners who have...</td>\n",
       "      <td>My students need access to one on one iPad opportunities to support differentiated learning experiences!</td>\n",
       "      <td>Literacy &amp; Language, Special Needs</td>\n",
       "      <td>Literacy, Special Needs</td>\n",
       "      <td>Grades PreK-2</td>\n",
       "      <td>Computers &amp; Tablets</td>\n",
       "      <td>490.53</td>\n",
       "      <td>2018-03-28</td>\n",
       "      <td>2018-07-28</td>\n",
       "      <td>Live</td>\n",
       "      <td>NaN</td>\n",
       "      <td>490.53</td>\n",
       "      <td>2018-03-28</td>\n",
       "      <td>2018</td>\n",
       "      <td>3</td>\n",
       "      <td>44835355fcbab1721d49be26cb7dad31</td>\n",
       "      <td>0.91</td>\n",
       "    </tr>\n",
       "    <tr>\n",
       "      <th>1</th>\n",
       "      <td>1045743</td>\n",
       "      <td>b6b112d04ea19e3f81f70624f52db567</td>\n",
       "      <td>25179c14ba44ff25fa88468787b31825</td>\n",
       "      <td>26c94e4b0711ca01e4cd7a6d5c25011e</td>\n",
       "      <td>4</td>\n",
       "      <td>Teacher-Led</td>\n",
       "      <td>Homeless Music Searching For Choir Folders</td>\n",
       "      <td>My students have chosen to be a part of a small charter school that was founded on principles of hard work, determination, and the betterment of education. \\nMy music program is only four years old, but we are growing quickly. In the last two years, our music program has tripled in size! The students are joining in great numbers because they want to be a part of something bigger, and they want to be inspired daily.  \\n\\nUnfortunately, with such fast growth in the music program, we are unable to keep up financially with the demand from young musicians. We need your help to give these students the education they deserve. \\n\\nWe are adventurers and we are learners.&lt;!--DONOTREMOVEESSAYDIVIDER--&gt;Our music program is new, and we are working towards getting basic supplies for our students. One of these music program basics is music folders for our choir students. These music folders will keep the music organized, but will also keep it safe. Music is expensive, and we can't afford for any of it to go missing, or get ruined. Right now the kids don't have music folders and so it is difficult for them to take the music home and practice. If we could get these music folders, eventually thousands of students in my choir would benefit greatly from them as we use them for years to come.  &lt;!--DONOTREMOVEESSAYDIVIDER--&gt;</td>\n",
       "      <td>My students have chosen to be a part of a small charter school that was founded on principles of hard work, determination, and the betterment of education. \\nMy music program is only four years...</td>\n",
       "      <td>My students need folders to keep their music organized and in good condition.</td>\n",
       "      <td>Music &amp; The Arts</td>\n",
       "      <td>Music, Performing Arts</td>\n",
       "      <td>Grades 6-8</td>\n",
       "      <td>Classroom Basics</td>\n",
       "      <td>441.06</td>\n",
       "      <td>2018-03-28</td>\n",
       "      <td>2018-07-28</td>\n",
       "      <td>Live</td>\n",
       "      <td>NaN</td>\n",
       "      <td>441.06</td>\n",
       "      <td>2018-03-28</td>\n",
       "      <td>2018</td>\n",
       "      <td>3</td>\n",
       "      <td>c49aa5b2fcb90532dbface231221fb98</td>\n",
       "      <td>0.73</td>\n",
       "    </tr>\n",
       "    <tr>\n",
       "      <th>2</th>\n",
       "      <td>1045769</td>\n",
       "      <td>7213bfdd20378d5650a6b4392fa479ae</td>\n",
       "      <td>a0b70d8c096f3158efef161a346abdd9</td>\n",
       "      <td>5bb78aa64eb0d9ea25a25f4d8e17840a</td>\n",
       "      <td>3</td>\n",
       "      <td>Teacher-Led</td>\n",
       "      <td>Help Us Move and Work at the Same Time!</td>\n",
       "      <td>Many students in my school speak English as a Second Language. Also, many students in the school live below the poverty line. Still, despite all of these challenges, they come to school every day with a smile on their face, ready to try their best. It's not always easy, but they know that if they work hard and stay focused, they will succeed. In addition to working hard, students also sometimes need that extra support. Because students have different learning styles, as teachers, we want to provide them with the specific resources they need to thrive. The students in my classroom are from many different cultures and each have their own story. They are some of the kindest and most caring students I have had the pleasure of teaching. They have fully embraced the growth mindset and consistently encourage each other to persevere in daily tasks.&lt;!--DONOTREMOVEESSAYDIVIDER--&gt;These materials would help my students stay focused and work hard during the day! Students in third grade are expected to work hard for over 6 hours everyday. Often times they have lots of extra energy that they need to use during the school day. Having alternative seating options and a stand up desk would allow them to work hard while getting out some of this energy. We expect our students to stay seated while working and it is not always the best way for them to learn. Giving them options about their seating and desk will help them take ownership of their learning and remain focused during independent work time! &lt;!--DONOTREMOVEESSAYDIVIDER--&gt;</td>\n",
       "      <td>Many students in my school speak English as a Second Language. Also, many students in the school live below the poverty line. Still, despite all of these challenges, they come to school every day...</td>\n",
       "      <td>My students need alternative seating to help them focus during the day. My students work hard all day and often times are stuck in their chairs. These seats would help them stay focused on their work!</td>\n",
       "      <td>Literacy &amp; Language, Math &amp; Science</td>\n",
       "      <td>Literature &amp; Writing, Mathematics</td>\n",
       "      <td>Grades 3-5</td>\n",
       "      <td>Flexible Seating</td>\n",
       "      <td>582.78</td>\n",
       "      <td>2018-03-28</td>\n",
       "      <td>2018-07-28</td>\n",
       "      <td>Live</td>\n",
       "      <td>NaN</td>\n",
       "      <td>582.78</td>\n",
       "      <td>2018-03-28</td>\n",
       "      <td>2018</td>\n",
       "      <td>3</td>\n",
       "      <td>cb43dfe36a77824fb82b77314eea2d2e</td>\n",
       "      <td>0.79</td>\n",
       "    </tr>\n",
       "    <tr>\n",
       "      <th>3</th>\n",
       "      <td>1045771</td>\n",
       "      <td>daec5070579ef925d822a26f6d65f858</td>\n",
       "      <td>c2cd7d6684f89f0911a966401fba9d97</td>\n",
       "      <td>6552592608bfd57ac01ae0d4866d6d07</td>\n",
       "      <td>10</td>\n",
       "      <td>Teacher-Led</td>\n",
       "      <td>Ants In Our Pants!</td>\n",
       "      <td>My students are amazing and I couldn't have asked for a better class! They amaze me everyday with how much they are learning and they are very hard workers. They are always wanting to learn more and constantly ask questions to make their learning more meaningful. They really show that they enjoy learning and that they want to continue to learn. They really enjoy school and it is a great place for them to come and feel safe and enhance their learning! &lt;!--DONOTREMOVEESSAYDIVIDER--&gt;Students are more on the go than ever! These flexible seating options in my classroom will make a huge difference for all students because it will give them a variety of ways to do their work in the classroom. Students are on the go even more these days and these flexible seating options will give students the options on how they want to complete their work. It will make them feel empowered because they have the choice.\\n\\nThese flexible seating options will also be beneficial because it gets students out of their regular desks and also provides different areas to do their work. We do reading rotations in the morning and they are constantly moving from station to station. Instead of sitting in regular chairs at the stations, these flexible seating options will be perfect and the student's will be able to choose what is more comfortable for them.\\n\\nNot only will these benefit the student's by making it more comfortable to get their work done, they just make the atmosphere of the classroom more fun! Students will be more engaged in their classroom work and will want to go to those stations even more!&lt;!--DONOTREMOVEESSAYDIVIDER--&gt;</td>\n",
       "      <td>My students are amazing and I couldn't have asked for a better class! They amaze me everyday with how much they are learning and they are very hard workers. They are always wanting to learn more...</td>\n",
       "      <td>My students need flex comfy floor seats and soft seats for flexible seating. Students now coming into my classroom are more active then ever and they need the variety of seating.</td>\n",
       "      <td>Applied Learning</td>\n",
       "      <td>Other</td>\n",
       "      <td>Grades PreK-2</td>\n",
       "      <td>Reading Nooks, Desks &amp; Storage</td>\n",
       "      <td>494.04</td>\n",
       "      <td>2018-03-28</td>\n",
       "      <td>2018-07-28</td>\n",
       "      <td>Live</td>\n",
       "      <td>NaN</td>\n",
       "      <td>494.04</td>\n",
       "      <td>2018-03-28</td>\n",
       "      <td>2018</td>\n",
       "      <td>3</td>\n",
       "      <td>ec8b31af11c2560d8fca5a698bc29946</td>\n",
       "      <td>1.00</td>\n",
       "    </tr>\n",
       "    <tr>\n",
       "      <th>4</th>\n",
       "      <td>1045771</td>\n",
       "      <td>daec5070579ef925d822a26f6d65f858</td>\n",
       "      <td>c2cd7d6684f89f0911a966401fba9d97</td>\n",
       "      <td>6552592608bfd57ac01ae0d4866d6d07</td>\n",
       "      <td>10</td>\n",
       "      <td>Teacher-Led</td>\n",
       "      <td>Ants In Our Pants!</td>\n",
       "      <td>My students are amazing and I couldn't have asked for a better class! They amaze me everyday with how much they are learning and they are very hard workers. They are always wanting to learn more and constantly ask questions to make their learning more meaningful. They really show that they enjoy learning and that they want to continue to learn. They really enjoy school and it is a great place for them to come and feel safe and enhance their learning! &lt;!--DONOTREMOVEESSAYDIVIDER--&gt;Students are more on the go than ever! These flexible seating options in my classroom will make a huge difference for all students because it will give them a variety of ways to do their work in the classroom. Students are on the go even more these days and these flexible seating options will give students the options on how they want to complete their work. It will make them feel empowered because they have the choice.\\n\\nThese flexible seating options will also be beneficial because it gets students out of their regular desks and also provides different areas to do their work. We do reading rotations in the morning and they are constantly moving from station to station. Instead of sitting in regular chairs at the stations, these flexible seating options will be perfect and the student's will be able to choose what is more comfortable for them.\\n\\nNot only will these benefit the student's by making it more comfortable to get their work done, they just make the atmosphere of the classroom more fun! Students will be more engaged in their classroom work and will want to go to those stations even more!&lt;!--DONOTREMOVEESSAYDIVIDER--&gt;</td>\n",
       "      <td>My students are amazing and I couldn't have asked for a better class! They amaze me everyday with how much they are learning and they are very hard workers. They are always wanting to learn more...</td>\n",
       "      <td>My students need flex comfy floor seats and soft seats for flexible seating. Students now coming into my classroom are more active then ever and they need the variety of seating.</td>\n",
       "      <td>Applied Learning</td>\n",
       "      <td>Other</td>\n",
       "      <td>Grades PreK-2</td>\n",
       "      <td>Reading Nooks, Desks &amp; Storage</td>\n",
       "      <td>494.04</td>\n",
       "      <td>2018-03-28</td>\n",
       "      <td>2018-07-28</td>\n",
       "      <td>Live</td>\n",
       "      <td>NaN</td>\n",
       "      <td>494.04</td>\n",
       "      <td>2018-03-28</td>\n",
       "      <td>2018</td>\n",
       "      <td>3</td>\n",
       "      <td>208779376c99dc6692a5fb3489d122f0</td>\n",
       "      <td>0.99</td>\n",
       "    </tr>\n",
       "    <tr>\n",
       "      <th>5</th>\n",
       "      <td>1045783</td>\n",
       "      <td>78b74969552b1484f24859eddb871bb0</td>\n",
       "      <td>50d2c1791fe35e24ebc1b27be4576910</td>\n",
       "      <td>dd7e9b70acf5f97d3da5e69cd3299dbb</td>\n",
       "      <td>20</td>\n",
       "      <td>Teacher-Led</td>\n",
       "      <td>Student's with Autism Learn Social Skills through LEGO Education Engineering!</td>\n",
       "      <td>I teach students in 3rd, 4th, 5th and 6th grade in a functional self-contained setting. The students in my classroom are autistic and follow the TEACCH Model. This model is a structured approach to teach students with Autism. Part of the structured teaching is having the students follow a daily individual schedule. This schedule helps keep them focused, engaged and on task.\\n\\nMy students are truly amazing superheroes! My students are functioning well below their grade level, and they need a variety of experiences to help prepare them for what lies ahead. They come to school ready to be the superhero students! They are all working towards being independent in different skills, and love opportunities to work on creating things with LEGOs that will enhance their learning. Since they are at a critical age I want to increase their skills to help them with advancing these skills. I teach on a campus that houses grades K-6. On this campus, there are a total of for classroom for students with Autism.&lt;!--DONOTREMOVEESSAYDIVIDER--&gt;As my students get older they need to learn the skills to be social in their community and on the playground. Since this is a skill that is important they could use LEGO Education as a building block to work on the community life skills they need. With the LEGO kits they can build their own community using their imagination. Once they build their communities, then they can use their imagination to roll-play how to socialize in the community and on the playground.  This will help them learn how to be creative in not only engineering buildings, but it will help them focus on ways they can make friends and activities they can participate in around the community.  With the LEGO Education kit, it will help get their creative juices flowing and teach them how to function independently around the community.\\n\\nBy Incorporating both engineering, life skills and writing, the students will learn how to grow their imaginations in a way that they never saw possible.\\n\\nLEGO Education will enhance the learning of my students by giving them a way to turn their engineering projects into life-long social skills.  With the LEGO Kits they can build a community that they would like to be a part of in the future and how to be a part of the community socially.\\n&lt;!--DONOTREMOVEESSAYDIVIDER--&gt;</td>\n",
       "      <td>I teach students in 3rd, 4th, 5th and 6th grade in a functional self-contained setting. The students in my classroom are autistic and follow the TEACCH Model. This model is a structured approach...</td>\n",
       "      <td>My students need the LEGO Education Community Pack and the Playground Set to increase their social skills through engineering!</td>\n",
       "      <td>History &amp; Civics, Special Needs</td>\n",
       "      <td>Social Sciences, Special Needs</td>\n",
       "      <td>Grades 3-5</td>\n",
       "      <td>Books</td>\n",
       "      <td>525.76</td>\n",
       "      <td>2018-03-28</td>\n",
       "      <td>2018-07-28</td>\n",
       "      <td>Live</td>\n",
       "      <td>NaN</td>\n",
       "      <td>525.76</td>\n",
       "      <td>2018-03-28</td>\n",
       "      <td>2018</td>\n",
       "      <td>3</td>\n",
       "      <td>7c0cbe3b9df650d364a2a96ce744c091</td>\n",
       "      <td>0.94</td>\n",
       "    </tr>\n",
       "    <tr>\n",
       "      <th>6</th>\n",
       "      <td>1045783</td>\n",
       "      <td>78b74969552b1484f24859eddb871bb0</td>\n",
       "      <td>50d2c1791fe35e24ebc1b27be4576910</td>\n",
       "      <td>dd7e9b70acf5f97d3da5e69cd3299dbb</td>\n",
       "      <td>20</td>\n",
       "      <td>Teacher-Led</td>\n",
       "      <td>Student's with Autism Learn Social Skills through LEGO Education Engineering!</td>\n",
       "      <td>I teach students in 3rd, 4th, 5th and 6th grade in a functional self-contained setting. The students in my classroom are autistic and follow the TEACCH Model. This model is a structured approach to teach students with Autism. Part of the structured teaching is having the students follow a daily individual schedule. This schedule helps keep them focused, engaged and on task.\\n\\nMy students are truly amazing superheroes! My students are functioning well below their grade level, and they need a variety of experiences to help prepare them for what lies ahead. They come to school ready to be the superhero students! They are all working towards being independent in different skills, and love opportunities to work on creating things with LEGOs that will enhance their learning. Since they are at a critical age I want to increase their skills to help them with advancing these skills. I teach on a campus that houses grades K-6. On this campus, there are a total of for classroom for students with Autism.&lt;!--DONOTREMOVEESSAYDIVIDER--&gt;As my students get older they need to learn the skills to be social in their community and on the playground. Since this is a skill that is important they could use LEGO Education as a building block to work on the community life skills they need. With the LEGO kits they can build their own community using their imagination. Once they build their communities, then they can use their imagination to roll-play how to socialize in the community and on the playground.  This will help them learn how to be creative in not only engineering buildings, but it will help them focus on ways they can make friends and activities they can participate in around the community.  With the LEGO Education kit, it will help get their creative juices flowing and teach them how to function independently around the community.\\n\\nBy Incorporating both engineering, life skills and writing, the students will learn how to grow their imaginations in a way that they never saw possible.\\n\\nLEGO Education will enhance the learning of my students by giving them a way to turn their engineering projects into life-long social skills.  With the LEGO Kits they can build a community that they would like to be a part of in the future and how to be a part of the community socially.\\n&lt;!--DONOTREMOVEESSAYDIVIDER--&gt;</td>\n",
       "      <td>I teach students in 3rd, 4th, 5th and 6th grade in a functional self-contained setting. The students in my classroom are autistic and follow the TEACCH Model. This model is a structured approach...</td>\n",
       "      <td>My students need the LEGO Education Community Pack and the Playground Set to increase their social skills through engineering!</td>\n",
       "      <td>History &amp; Civics, Special Needs</td>\n",
       "      <td>Social Sciences, Special Needs</td>\n",
       "      <td>Grades 3-5</td>\n",
       "      <td>Books</td>\n",
       "      <td>525.76</td>\n",
       "      <td>2018-03-28</td>\n",
       "      <td>2018-07-28</td>\n",
       "      <td>Live</td>\n",
       "      <td>NaN</td>\n",
       "      <td>525.76</td>\n",
       "      <td>2018-03-28</td>\n",
       "      <td>2018</td>\n",
       "      <td>3</td>\n",
       "      <td>51e0dd5bbc099bdfc7d2342d15ce37ef</td>\n",
       "      <td>0.84</td>\n",
       "    </tr>\n",
       "    <tr>\n",
       "      <th>7</th>\n",
       "      <td>1045819</td>\n",
       "      <td>cd629b3e3a2b656922303f3b4b279184</td>\n",
       "      <td>961dd7f681f17b4329c4b35dcf875740</td>\n",
       "      <td>0cec7bc542967be06f547b9bf6f598b6</td>\n",
       "      <td>39</td>\n",
       "      <td>Teacher-Led</td>\n",
       "      <td>Readers Are Leaders!</td>\n",
       "      <td>A new year and a new set of eager learners. I work at a school where the majority of my students are English learners; however, they are not letting their language barrier hold them back! On my campus, many of my students are English Learners as well as migrant, transient, or homeless. My students are constantly working their hardest to not only continue to learn the academics, but to also continue to learn to speak English correctly. Just like anyone else, my students are trying to find their way in this world and to become well rounded, educated individuals; I am doing everything I can to help them stay inspired, striving for better, believing in themselves, and continuing to learn! \\n\\nI'm here to teach, and they're eager to learn. I believe learning can still be fun and definitely should be. A student that loves, appreciates, and is enjoying their learning experience, will learn the most! &lt;!--DONOTREMOVEESSAYDIVIDER--&gt;All children learn at different paces and read on different levels, right? If that is the case, why should they all be reading the same passages and/or books? Guided reading is an instructional approach in which the teacher works with small groups with similar reading behaviors to ensure each group gets the appropriate instruction for their level. With leveled books, I will be able to meet the needs of all readers in my classroom through Guided Reading. In using this approach of reading instruction, we will focus on sight words, word work, spelling, decoding, comprehension strategies, and so much more. The best part is, the students will be reading on a level that is not too easy, not too hard, but just right!&lt;!--DONOTREMOVEESSAYDIVIDER--&gt;</td>\n",
       "      <td>A new year and a new set of eager learners. I work at a school where the majority of my students are English learners; however, they are not letting their language barrier hold them back! On my...</td>\n",
       "      <td>My students need leveled fiction and nonfiction books to add to our classroom library.</td>\n",
       "      <td>Literacy &amp; Language</td>\n",
       "      <td>Literacy, Literature &amp; Writing</td>\n",
       "      <td>Grades PreK-2</td>\n",
       "      <td>Books</td>\n",
       "      <td>472.45</td>\n",
       "      <td>2018-03-28</td>\n",
       "      <td>2018-07-28</td>\n",
       "      <td>Live</td>\n",
       "      <td>NaN</td>\n",
       "      <td>472.45</td>\n",
       "      <td>2018-03-28</td>\n",
       "      <td>2018</td>\n",
       "      <td>3</td>\n",
       "      <td>3d1fb4cb014b657aebc310a09d707b4c</td>\n",
       "      <td>0.99</td>\n",
       "    </tr>\n",
       "    <tr>\n",
       "      <th>8</th>\n",
       "      <td>1045821</td>\n",
       "      <td>d951a7b56664f020352bff5f80427467</td>\n",
       "      <td>d1819e35de1aa9d2f6607daa69672ec1</td>\n",
       "      <td>5e9d746e86604601b9617ee28768b7c8</td>\n",
       "      <td>14</td>\n",
       "      <td>Teacher-Led</td>\n",
       "      <td>Designing with Tech</td>\n",
       "      <td>Every day students from 6th, 7th and 8th grade enter my classroom with hidden passions and minds open. They come in ready to experience something new and exciting. Each student has the possibility to create something completely unique that fits his or her personal interests and experiences.\\n\\nThe school district has a wide variety of students of different social and economic backgrounds. The majority of the students qualify for free or reduced lunch though. Most students come to school without the basic necessities needed to learn. Art is an escape for many of the students who aren't very successful in core curriculum classes. Trying to meet the needs of a 120+ students on a daily basis requires me to think outside the box to reach their individual needs. Amongst the many students I teach, I have several students with physical and mental disabilities. Inspiring a love of art and keeping kids engaged is one of my top priorities. &lt;!--DONOTREMOVEESSAYDIVIDER--&gt;An Apple iPad Pro, Protective case, Apple Pencil, and Lightning to VGA adapter in my classroom will allow my students to generate original 2 and 3-dimensional designs and print them on our laser-jet, color printer, or 3-D printer. Students will also be able download various applications from the app store, such as, Procreate and Adobe Photoshop. All these items will help assist the students in their creative process. New innovative technology in the classroom would allow students to experience art in a different medium. This would help bridge the gap between fine art, digital design, and the new growing STEM concepts in today's ever changing and competitive career paths.\\n\\n    Students of this generation love using technology, and they work really well with it.\\n\\nProviding students with new technology in the classroom will allow them to put their skills and interests to use in a productive and creative way. Even my most reluctant students will be more engaged in our various projects throughout the year. &lt;!--DONOTREMOVEESSAYDIVIDER--&gt;</td>\n",
       "      <td>Every day students from 6th, 7th and 8th grade enter my classroom with hidden passions and minds open. They come in ready to experience something new and exciting. Each student has the possibility...</td>\n",
       "      <td>My students need an Apple iPad Pro, Apple Pencil, OtterBox case, and Apple Lightning to VGA adapter.</td>\n",
       "      <td>Math &amp; Science, Music &amp; The Arts</td>\n",
       "      <td>Applied Sciences, Visual Arts</td>\n",
       "      <td>Grades 6-8</td>\n",
       "      <td>Computers &amp; Tablets</td>\n",
       "      <td>1344.34</td>\n",
       "      <td>2018-03-28</td>\n",
       "      <td>2018-07-28</td>\n",
       "      <td>Live</td>\n",
       "      <td>NaN</td>\n",
       "      <td>1344.34</td>\n",
       "      <td>2018-03-28</td>\n",
       "      <td>2018</td>\n",
       "      <td>3</td>\n",
       "      <td>676381f9b8464354382806a090849a93</td>\n",
       "      <td>0.97</td>\n",
       "    </tr>\n",
       "    <tr>\n",
       "      <th>9</th>\n",
       "      <td>1045825</td>\n",
       "      <td>7350e6e98dbb9774221034bd95b3ca49</td>\n",
       "      <td>f6e35ee284d4111c8431848f5893c043</td>\n",
       "      <td>3fc08e89e5181c21d51c90e7c971a31c</td>\n",
       "      <td>50</td>\n",
       "      <td>Teacher-Led</td>\n",
       "      <td>Wiggles for Workers</td>\n",
       "      <td>The students at our school are very serious about their education!  They love to face a challenge and actively participate in their classes.  We have very bright minds that come to school ready to learn in order to succeed in the future. \\n\\nIn spite of attending a low-income school where 100% of students receive free lunch, they are very motivated to learn. My students are very creative and love attending school. They have the passion for succeeding and impressing if given the chance. Most of the time, all they need is a little support to achieve their dreams.&lt;!--DONOTREMOVEESSAYDIVIDER--&gt;It is difficult for any 9-10 year old to stay seated in a classroom all day. In spite of incorporating movement into our lessons, my students need some additional wiggle time while they work independently.\\n\\nThese Hokki Stools will give students a chance to move and stay focused during the day! It allows them to release energy and keep their bodies moving but also keeps them seated at their desk. These stools are especially helpful for students who have limited attention spans and are hyperactive. I hope you can help us bring movement to our classroom with some new Hokki stools!&lt;!--DONOTREMOVEESSAYDIVIDER--&gt;</td>\n",
       "      <td>The students at our school are very serious about their education! They love to face a challenge and actively participate in their classes. We have very bright minds that come to school ready to...</td>\n",
       "      <td>My students need Hokki Stools to help them move while they are working!</td>\n",
       "      <td>Literacy &amp; Language, Math &amp; Science</td>\n",
       "      <td>ESL, Mathematics</td>\n",
       "      <td>Grades 3-5</td>\n",
       "      <td>Flexible Seating</td>\n",
       "      <td>546.66</td>\n",
       "      <td>2018-03-28</td>\n",
       "      <td>2018-07-28</td>\n",
       "      <td>Live</td>\n",
       "      <td>NaN</td>\n",
       "      <td>546.66</td>\n",
       "      <td>2018-03-28</td>\n",
       "      <td>2018</td>\n",
       "      <td>3</td>\n",
       "      <td>8531ad3324ea33708c75e16bd1d8d0db</td>\n",
       "      <td>1.00</td>\n",
       "    </tr>\n",
       "  </tbody>\n",
       "</table>\n",
       "</div>"
      ],
      "text/plain": [
       "     index                        Project ID                         School ID                        Teacher ID  Teacher Project Posted Sequence Project Type                                                                  Project Title  \\\n",
       "0  1045742  af65b9205616bd482d94de31648d6cd1  a32fcd039389bde710c4c648e326fcd9  3dfc673e3d9f2b0fdce11431b3923a7c  3                                Teacher-Led  Help Us Get Our Apps Together!                                                  \n",
       "1  1045743  b6b112d04ea19e3f81f70624f52db567  25179c14ba44ff25fa88468787b31825  26c94e4b0711ca01e4cd7a6d5c25011e  4                                Teacher-Led  Homeless Music Searching For Choir Folders                                      \n",
       "2  1045769  7213bfdd20378d5650a6b4392fa479ae  a0b70d8c096f3158efef161a346abdd9  5bb78aa64eb0d9ea25a25f4d8e17840a  3                                Teacher-Led  Help Us Move and Work at the Same Time!                                         \n",
       "3  1045771  daec5070579ef925d822a26f6d65f858  c2cd7d6684f89f0911a966401fba9d97  6552592608bfd57ac01ae0d4866d6d07  10                               Teacher-Led  Ants In Our Pants!                                                              \n",
       "4  1045771  daec5070579ef925d822a26f6d65f858  c2cd7d6684f89f0911a966401fba9d97  6552592608bfd57ac01ae0d4866d6d07  10                               Teacher-Led  Ants In Our Pants!                                                              \n",
       "5  1045783  78b74969552b1484f24859eddb871bb0  50d2c1791fe35e24ebc1b27be4576910  dd7e9b70acf5f97d3da5e69cd3299dbb  20                               Teacher-Led  Student's with Autism Learn Social Skills through LEGO Education Engineering!   \n",
       "6  1045783  78b74969552b1484f24859eddb871bb0  50d2c1791fe35e24ebc1b27be4576910  dd7e9b70acf5f97d3da5e69cd3299dbb  20                               Teacher-Led  Student's with Autism Learn Social Skills through LEGO Education Engineering!   \n",
       "7  1045819  cd629b3e3a2b656922303f3b4b279184  961dd7f681f17b4329c4b35dcf875740  0cec7bc542967be06f547b9bf6f598b6  39                               Teacher-Led  Readers Are Leaders!                                                            \n",
       "8  1045821  d951a7b56664f020352bff5f80427467  d1819e35de1aa9d2f6607daa69672ec1  5e9d746e86604601b9617ee28768b7c8  14                               Teacher-Led  Designing with Tech                                                             \n",
       "9  1045825  7350e6e98dbb9774221034bd95b3ca49  f6e35ee284d4111c8431848f5893c043  3fc08e89e5181c21d51c90e7c971a31c  50                               Teacher-Led  Wiggles for Workers                                                             \n",
       "\n",
       "                                                                                                                                                                                                                                                                                                                                                                                                                                                                                                                                                                                                                                                                                                                                                                                                                                                                                                                                                                                                                                                                                                                                                                                                                                                                                                                                                                                                                                                                                                                                                                                                                                                                                                                                                                                                                                                                                                                                                                                                                                                                                                                                                                                                                                                                                                                                                                                                               Project Essay  \\\n",
       "0  As a teacher in a low-income/high poverty school district in Chicago , my students are faced with several challenges both in and out of the classroom. My students are diverse learners who have communication and learning disorders. They are lovable, energetic kids who need new technology to allow them the opportunity to communicate and learn. Some have autism, some have receptive and/or expressive language deficits, and some have articulation disorders that make them hard to understand.  Despite the many challenges they face, I am looking to keep things simple and provide my students with creative and meaningful learning experiences.  \\n\\n My students thrive on using apps that are interactive for them to learn on.  While we have gotten a couple of new iPads, we need more so every child is able to have their own iPad to differentiate their learning experiences while at school. <!--DONOTREMOVEESSAYDIVIDER-->I work hard to make our time engaging and fun while at the same time working on improving instruction and communication skills. We have a first generation iPads that no longer supports apps and is completely obsolete. The iPads will not run any of my apps that I have researched to use with my students. My students respond to technology and the students use these iPads during the time that they are working on their learning plan. These are times of free choice to decide on what they are going to learn and one out of four opportunities a day they try to use the iPads to engage in apps that teach them literacy and math skills while I work independently with other students. Using the iPad makes learning feel less like schoolwork and more fun while still helping them work towards mastering our skills we need to learn in Kindergarten. I plan on using apps specifically targeting literacy (reading) and math along with other educational standards they need to learn. The iPad case will help to ensure that all students of various ages and disabilities are able to enjoy the iPad without breaking if accidentally dropped.  Some of the students need to use the iPads during transitions so they are engaged in an activity while walking down the halls.  The case will help protect the iPad during in mishaps.<!--DONOTREMOVEESSAYDIVIDER-->                                                                           \n",
       "1  My students have chosen to be a part of a small charter school that was founded on principles of hard work, determination, and the betterment of education. \\nMy music program is only four years old, but we are growing quickly. In the last two years, our music program has tripled in size! The students are joining in great numbers because they want to be a part of something bigger, and they want to be inspired daily.  \\n\\nUnfortunately, with such fast growth in the music program, we are unable to keep up financially with the demand from young musicians. We need your help to give these students the education they deserve. \\n\\nWe are adventurers and we are learners.<!--DONOTREMOVEESSAYDIVIDER-->Our music program is new, and we are working towards getting basic supplies for our students. One of these music program basics is music folders for our choir students. These music folders will keep the music organized, but will also keep it safe. Music is expensive, and we can't afford for any of it to go missing, or get ruined. Right now the kids don't have music folders and so it is difficult for them to take the music home and practice. If we could get these music folders, eventually thousands of students in my choir would benefit greatly from them as we use them for years to come.  <!--DONOTREMOVEESSAYDIVIDER-->                                                                                                                                                                                                                                                                                                                                                                                                                                                                                                                                                                                                                                                                                                                                                                                                                                                                                                                                                                                                                                                \n",
       "2  Many students in my school speak English as a Second Language. Also, many students in the school live below the poverty line. Still, despite all of these challenges, they come to school every day with a smile on their face, ready to try their best. It's not always easy, but they know that if they work hard and stay focused, they will succeed. In addition to working hard, students also sometimes need that extra support. Because students have different learning styles, as teachers, we want to provide them with the specific resources they need to thrive. The students in my classroom are from many different cultures and each have their own story. They are some of the kindest and most caring students I have had the pleasure of teaching. They have fully embraced the growth mindset and consistently encourage each other to persevere in daily tasks.<!--DONOTREMOVEESSAYDIVIDER-->These materials would help my students stay focused and work hard during the day! Students in third grade are expected to work hard for over 6 hours everyday. Often times they have lots of extra energy that they need to use during the school day. Having alternative seating options and a stand up desk would allow them to work hard while getting out some of this energy. We expect our students to stay seated while working and it is not always the best way for them to learn. Giving them options about their seating and desk will help them take ownership of their learning and remain focused during independent work time! <!--DONOTREMOVEESSAYDIVIDER-->                                                                                                                                                                                                                                                                                                                                                                                                                                                                                                                                                                                                                                                                                                                                                                                                                              \n",
       "3  My students are amazing and I couldn't have asked for a better class! They amaze me everyday with how much they are learning and they are very hard workers. They are always wanting to learn more and constantly ask questions to make their learning more meaningful. They really show that they enjoy learning and that they want to continue to learn. They really enjoy school and it is a great place for them to come and feel safe and enhance their learning! <!--DONOTREMOVEESSAYDIVIDER-->Students are more on the go than ever! These flexible seating options in my classroom will make a huge difference for all students because it will give them a variety of ways to do their work in the classroom. Students are on the go even more these days and these flexible seating options will give students the options on how they want to complete their work. It will make them feel empowered because they have the choice.\\n\\nThese flexible seating options will also be beneficial because it gets students out of their regular desks and also provides different areas to do their work. We do reading rotations in the morning and they are constantly moving from station to station. Instead of sitting in regular chairs at the stations, these flexible seating options will be perfect and the student's will be able to choose what is more comfortable for them.\\n\\nNot only will these benefit the student's by making it more comfortable to get their work done, they just make the atmosphere of the classroom more fun! Students will be more engaged in their classroom work and will want to go to those stations even more!<!--DONOTREMOVEESSAYDIVIDER-->                                                                                                                                                                                                                                                                                                                                                                                                                                                                                                                                                                                                                                                                                                                             \n",
       "4  My students are amazing and I couldn't have asked for a better class! They amaze me everyday with how much they are learning and they are very hard workers. They are always wanting to learn more and constantly ask questions to make their learning more meaningful. They really show that they enjoy learning and that they want to continue to learn. They really enjoy school and it is a great place for them to come and feel safe and enhance their learning! <!--DONOTREMOVEESSAYDIVIDER-->Students are more on the go than ever! These flexible seating options in my classroom will make a huge difference for all students because it will give them a variety of ways to do their work in the classroom. Students are on the go even more these days and these flexible seating options will give students the options on how they want to complete their work. It will make them feel empowered because they have the choice.\\n\\nThese flexible seating options will also be beneficial because it gets students out of their regular desks and also provides different areas to do their work. We do reading rotations in the morning and they are constantly moving from station to station. Instead of sitting in regular chairs at the stations, these flexible seating options will be perfect and the student's will be able to choose what is more comfortable for them.\\n\\nNot only will these benefit the student's by making it more comfortable to get their work done, they just make the atmosphere of the classroom more fun! Students will be more engaged in their classroom work and will want to go to those stations even more!<!--DONOTREMOVEESSAYDIVIDER-->                                                                                                                                                                                                                                                                                                                                                                                                                                                                                                                                                                                                                                                                                                                             \n",
       "5  I teach students in 3rd, 4th, 5th and 6th grade in a functional self-contained setting. The students in my classroom are autistic and follow the TEACCH Model. This model is a structured approach to teach students with Autism. Part of the structured teaching is having the students follow a daily individual schedule. This schedule helps keep them focused, engaged and on task.\\n\\nMy students are truly amazing superheroes! My students are functioning well below their grade level, and they need a variety of experiences to help prepare them for what lies ahead. They come to school ready to be the superhero students! They are all working towards being independent in different skills, and love opportunities to work on creating things with LEGOs that will enhance their learning. Since they are at a critical age I want to increase their skills to help them with advancing these skills. I teach on a campus that houses grades K-6. On this campus, there are a total of for classroom for students with Autism.<!--DONOTREMOVEESSAYDIVIDER-->As my students get older they need to learn the skills to be social in their community and on the playground. Since this is a skill that is important they could use LEGO Education as a building block to work on the community life skills they need. With the LEGO kits they can build their own community using their imagination. Once they build their communities, then they can use their imagination to roll-play how to socialize in the community and on the playground.  This will help them learn how to be creative in not only engineering buildings, but it will help them focus on ways they can make friends and activities they can participate in around the community.  With the LEGO Education kit, it will help get their creative juices flowing and teach them how to function independently around the community.\\n\\nBy Incorporating both engineering, life skills and writing, the students will learn how to grow their imaginations in a way that they never saw possible.\\n\\nLEGO Education will enhance the learning of my students by giving them a way to turn their engineering projects into life-long social skills.  With the LEGO Kits they can build a community that they would like to be a part of in the future and how to be a part of the community socially.\\n<!--DONOTREMOVEESSAYDIVIDER-->   \n",
       "6  I teach students in 3rd, 4th, 5th and 6th grade in a functional self-contained setting. The students in my classroom are autistic and follow the TEACCH Model. This model is a structured approach to teach students with Autism. Part of the structured teaching is having the students follow a daily individual schedule. This schedule helps keep them focused, engaged and on task.\\n\\nMy students are truly amazing superheroes! My students are functioning well below their grade level, and they need a variety of experiences to help prepare them for what lies ahead. They come to school ready to be the superhero students! They are all working towards being independent in different skills, and love opportunities to work on creating things with LEGOs that will enhance their learning. Since they are at a critical age I want to increase their skills to help them with advancing these skills. I teach on a campus that houses grades K-6. On this campus, there are a total of for classroom for students with Autism.<!--DONOTREMOVEESSAYDIVIDER-->As my students get older they need to learn the skills to be social in their community and on the playground. Since this is a skill that is important they could use LEGO Education as a building block to work on the community life skills they need. With the LEGO kits they can build their own community using their imagination. Once they build their communities, then they can use their imagination to roll-play how to socialize in the community and on the playground.  This will help them learn how to be creative in not only engineering buildings, but it will help them focus on ways they can make friends and activities they can participate in around the community.  With the LEGO Education kit, it will help get their creative juices flowing and teach them how to function independently around the community.\\n\\nBy Incorporating both engineering, life skills and writing, the students will learn how to grow their imaginations in a way that they never saw possible.\\n\\nLEGO Education will enhance the learning of my students by giving them a way to turn their engineering projects into life-long social skills.  With the LEGO Kits they can build a community that they would like to be a part of in the future and how to be a part of the community socially.\\n<!--DONOTREMOVEESSAYDIVIDER-->   \n",
       "7  A new year and a new set of eager learners. I work at a school where the majority of my students are English learners; however, they are not letting their language barrier hold them back! On my campus, many of my students are English Learners as well as migrant, transient, or homeless. My students are constantly working their hardest to not only continue to learn the academics, but to also continue to learn to speak English correctly. Just like anyone else, my students are trying to find their way in this world and to become well rounded, educated individuals; I am doing everything I can to help them stay inspired, striving for better, believing in themselves, and continuing to learn! \\n\\nI'm here to teach, and they're eager to learn. I believe learning can still be fun and definitely should be. A student that loves, appreciates, and is enjoying their learning experience, will learn the most! <!--DONOTREMOVEESSAYDIVIDER-->All children learn at different paces and read on different levels, right? If that is the case, why should they all be reading the same passages and/or books? Guided reading is an instructional approach in which the teacher works with small groups with similar reading behaviors to ensure each group gets the appropriate instruction for their level. With leveled books, I will be able to meet the needs of all readers in my classroom through Guided Reading. In using this approach of reading instruction, we will focus on sight words, word work, spelling, decoding, comprehension strategies, and so much more. The best part is, the students will be reading on a level that is not too easy, not too hard, but just right!<!--DONOTREMOVEESSAYDIVIDER-->                                                                                                                                                                                                                                                                                                                                                                                                                                                                                                                                                                                                                                                                       \n",
       "8  Every day students from 6th, 7th and 8th grade enter my classroom with hidden passions and minds open. They come in ready to experience something new and exciting. Each student has the possibility to create something completely unique that fits his or her personal interests and experiences.\\n\\nThe school district has a wide variety of students of different social and economic backgrounds. The majority of the students qualify for free or reduced lunch though. Most students come to school without the basic necessities needed to learn. Art is an escape for many of the students who aren't very successful in core curriculum classes. Trying to meet the needs of a 120+ students on a daily basis requires me to think outside the box to reach their individual needs. Amongst the many students I teach, I have several students with physical and mental disabilities. Inspiring a love of art and keeping kids engaged is one of my top priorities. <!--DONOTREMOVEESSAYDIVIDER-->An Apple iPad Pro, Protective case, Apple Pencil, and Lightning to VGA adapter in my classroom will allow my students to generate original 2 and 3-dimensional designs and print them on our laser-jet, color printer, or 3-D printer. Students will also be able download various applications from the app store, such as, Procreate and Adobe Photoshop. All these items will help assist the students in their creative process. New innovative technology in the classroom would allow students to experience art in a different medium. This would help bridge the gap between fine art, digital design, and the new growing STEM concepts in today's ever changing and competitive career paths.\\n\\n    Students of this generation love using technology, and they work really well with it.\\n\\nProviding students with new technology in the classroom will allow them to put their skills and interests to use in a productive and creative way. Even my most reluctant students will be more engaged in our various projects throughout the year. <!--DONOTREMOVEESSAYDIVIDER-->                                                                                                                                                                                                                                                                                                                    \n",
       "9  The students at our school are very serious about their education!  They love to face a challenge and actively participate in their classes.  We have very bright minds that come to school ready to learn in order to succeed in the future. \\n\\nIn spite of attending a low-income school where 100% of students receive free lunch, they are very motivated to learn. My students are very creative and love attending school. They have the passion for succeeding and impressing if given the chance. Most of the time, all they need is a little support to achieve their dreams.<!--DONOTREMOVEESSAYDIVIDER-->It is difficult for any 9-10 year old to stay seated in a classroom all day. In spite of incorporating movement into our lessons, my students need some additional wiggle time while they work independently.\\n\\nThese Hokki Stools will give students a chance to move and stay focused during the day! It allows them to release energy and keep their bodies moving but also keeps them seated at their desk. These stools are especially helpful for students who have limited attention spans and are hyperactive. I hope you can help us bring movement to our classroom with some new Hokki stools!<!--DONOTREMOVEESSAYDIVIDER-->                                                                                                                                                                                                                                                                                                                                                                                                                                                                                                                                                                                                                                                                                                                                                                                                                                                                                                                                                                                                                                                                                                                                                               \n",
       "\n",
       "                                                                                                                                                                                 Project Short Description                                                                                                                                                                                    Project Need Statement        Project Subject Category Tree   Project Subject Subcategory Tree Project Grade Level Category       Project Resource Category  Project Cost Project Posted Date Project Expiration Date Project Current Status Project Fully Funded Date     cost Posted Date  Posted Year  Posted Month                Related Project ID  Cosine Similarity  \n",
       "0  As a teacher in a low-income/high poverty school district in Chicago , my students are faced with several challenges both in and out of the classroom. My students are diverse learners who have...      My students need access to one on one iPad opportunities to support differentiated learning experiences!                                                                                                  Literacy & Language, Special Needs   Literacy, Special Needs            Grades PreK-2                Computers & Tablets             490.53        2018-03-28          2018-07-28              Live                   NaN                       490.53  2018-03-28   2018         3             44835355fcbab1721d49be26cb7dad31  0.91               \n",
       "1  My students have chosen to be a part of a small charter school that was founded on principles of hard work, determination, and the betterment of education. \\nMy music program is only four years...     My students need folders to keep their music organized and in good condition.                                                                                                                             Music & The Arts                     Music, Performing Arts             Grades 6-8                   Classroom Basics                441.06        2018-03-28          2018-07-28              Live                   NaN                       441.06  2018-03-28   2018         3             c49aa5b2fcb90532dbface231221fb98  0.73               \n",
       "2  Many students in my school speak English as a Second Language. Also, many students in the school live below the poverty line. Still, despite all of these challenges, they come to school every day...   My students need alternative seating to help them focus during the day. My students work hard all day and often times are stuck in their chairs. These seats would help them stay focused on their work!  Literacy & Language, Math & Science  Literature & Writing, Mathematics  Grades 3-5                   Flexible Seating                582.78        2018-03-28          2018-07-28              Live                   NaN                       582.78  2018-03-28   2018         3             cb43dfe36a77824fb82b77314eea2d2e  0.79               \n",
       "3  My students are amazing and I couldn't have asked for a better class! They amaze me everyday with how much they are learning and they are very hard workers. They are always wanting to learn more...    My students need flex comfy floor seats and soft seats for flexible seating. Students now coming into my classroom are more active then ever and they need the variety of seating.                        Applied Learning                     Other                              Grades PreK-2                Reading Nooks, Desks & Storage  494.04        2018-03-28          2018-07-28              Live                   NaN                       494.04  2018-03-28   2018         3             ec8b31af11c2560d8fca5a698bc29946  1.00               \n",
       "4  My students are amazing and I couldn't have asked for a better class! They amaze me everyday with how much they are learning and they are very hard workers. They are always wanting to learn more...    My students need flex comfy floor seats and soft seats for flexible seating. Students now coming into my classroom are more active then ever and they need the variety of seating.                        Applied Learning                     Other                              Grades PreK-2                Reading Nooks, Desks & Storage  494.04        2018-03-28          2018-07-28              Live                   NaN                       494.04  2018-03-28   2018         3             208779376c99dc6692a5fb3489d122f0  0.99               \n",
       "5  I teach students in 3rd, 4th, 5th and 6th grade in a functional self-contained setting. The students in my classroom are autistic and follow the TEACCH Model. This model is a structured approach...    My students need the LEGO Education Community Pack and the Playground Set to increase their social skills through engineering!                                                                            History & Civics, Special Needs      Social Sciences, Special Needs     Grades 3-5                   Books                           525.76        2018-03-28          2018-07-28              Live                   NaN                       525.76  2018-03-28   2018         3             7c0cbe3b9df650d364a2a96ce744c091  0.94               \n",
       "6  I teach students in 3rd, 4th, 5th and 6th grade in a functional self-contained setting. The students in my classroom are autistic and follow the TEACCH Model. This model is a structured approach...    My students need the LEGO Education Community Pack and the Playground Set to increase their social skills through engineering!                                                                            History & Civics, Special Needs      Social Sciences, Special Needs     Grades 3-5                   Books                           525.76        2018-03-28          2018-07-28              Live                   NaN                       525.76  2018-03-28   2018         3             51e0dd5bbc099bdfc7d2342d15ce37ef  0.84               \n",
       "7  A new year and a new set of eager learners. I work at a school where the majority of my students are English learners; however, they are not letting their language barrier hold them back! On my...     My students need leveled fiction and nonfiction books to add to our classroom library.                                                                                                                    Literacy & Language                  Literacy, Literature & Writing     Grades PreK-2                Books                           472.45        2018-03-28          2018-07-28              Live                   NaN                       472.45  2018-03-28   2018         3             3d1fb4cb014b657aebc310a09d707b4c  0.99               \n",
       "8  Every day students from 6th, 7th and 8th grade enter my classroom with hidden passions and minds open. They come in ready to experience something new and exciting. Each student has the possibility...  My students need an Apple iPad Pro, Apple Pencil, OtterBox case, and Apple Lightning to VGA adapter.                                                                                                      Math & Science, Music & The Arts     Applied Sciences, Visual Arts      Grades 6-8                   Computers & Tablets             1344.34       2018-03-28          2018-07-28              Live                   NaN                       1344.34 2018-03-28   2018         3             676381f9b8464354382806a090849a93  0.97               \n",
       "9  The students at our school are very serious about their education! They love to face a challenge and actively participate in their classes. We have very bright minds that come to school ready to...    My students need Hokki Stools to help them move while they are working!                                                                                                                                   Literacy & Language, Math & Science  ESL, Mathematics                   Grades 3-5                   Flexible Seating                546.66        2018-03-28          2018-07-28              Live                   NaN                       546.66  2018-03-28   2018         3             8531ad3324ea33708c75e16bd1d8d0db  1.00               "
      ]
     },
     "execution_count": 21,
     "metadata": {},
     "output_type": "execute_result"
    }
   ],
   "source": [
    "merged_df.head(10)"
   ]
  },
  {
   "cell_type": "markdown",
   "metadata": {},
   "source": [
    "#### <font color=\"blue\">Cosine Similarity Verification</font>\n",
    "I came across a cosine similarity score of 1.0 with merged_df dataframe  with a project id of daec5070579ef925d822a26f6d65f858 with a related project id of ec8b31af11c2560d8fca5a698bc29946. I was curious to find out if this score is really correct. I find that the project essay has been created by the same teacher for two different resource requirements on the same date using the same project essay. This establishes that the alogorithm employed is correct"
   ]
  },
  {
   "cell_type": "code",
   "execution_count": 22,
   "metadata": {},
   "outputs": [
    {
     "name": "stdout",
     "output_type": "stream",
     "text": [
      "                                                                                                                                                                                                                                                                                                                                                                                                                                                                                                                                                                                                                                                                                                                                                                                                                                                                                                                                                                                                                                                                                                                                                                                                                                                                                                                                                                                                                                                                                                                                                                                                                                                                                      Project Essay  \\\n",
      "17  My students are amazing and I couldn't have asked for a better class! They amaze me everyday with how much they are learning and they are very hard workers. They are always wanting to learn more and constantly ask questions to make their learning more meaningful. They really show that they enjoy learning and that they want to continue to learn. They really enjoy school and it is a great place for them to come and feel safe and enhance their learning! <!--DONOTREMOVEESSAYDIVIDER-->Students are more on the go than ever! These flexible seating options in my classroom will make a huge difference for all students because it will give them a variety of ways to do their work in the classroom. Students are on the go even more these days and these flexible seating options will give students the options on how they want to complete their work. It will make them feel empowered because they have the choice.\\n\\nThese flexible seating options will also be beneficial because it gets students out of their regular desks and also provides different areas to do their work. We do reading rotations in the morning and they are constantly moving from station to station. Instead of sitting in regular chairs at the stations, these flexible seating options will be perfect and the student's will be able to choose what is more comfortable for them.\\n\\nNot only will these benefit the student's by making it more comfortable to get their work done, they just make the atmosphere of the classroom more fun! Students will be more engaged in their classroom work and will want to go to those stations even more!<!--DONOTREMOVEESSAYDIVIDER-->   \n",
      "\n",
      "                          Teacher ID       Project Title                                                                                                                                                              Project Need Statement       Project Resource Category  Project Cost Project Posted Date  \n",
      "17  6552592608bfd57ac01ae0d4866d6d07  Ants In Our Pants!  My students need flex comfy floor seats and soft seats for flexible seating. Students now coming into my classroom are more active then ever and they need the variety of seating.  Reading Nooks, Desks & Storage  494.04        2018-03-28          \n"
     ]
    }
   ],
   "source": [
    "set_pd_options()\n",
    "pd.set_option('display.max_colwidth', -1)\n",
    "query_columns = [\"Project Essay\",\"Teacher ID\",\"Project Title\", \\\n",
    "                  \"Project Need Statement\", \"Project Resource Category\", \\\n",
    "                  \"Project Cost\", \"Project Posted Date\"]\n",
    "print(active_projects_df[active_projects_df[\"Project ID\"]==\"daec5070579ef925d822a26f6d65f858\"][query_columns])"
   ]
  },
  {
   "cell_type": "code",
   "execution_count": 23,
   "metadata": {
    "scrolled": true
   },
   "outputs": [
    {
     "name": "stdout",
     "output_type": "stream",
     "text": [
      "                                                                                                                                                                                                                                                                                                                                                                                                                                                                                                                                                                                                                                                                                                                                                                                                                                                                                                                                                                                                                                                                                                                                                                                                                                                                                                                                                                                                                                                                                                                                                                                                                                                                                        Project Essay  \\\n",
      "1623  My students are amazing and I couldn't have asked for a better class! They amaze me everyday with how much they are learning and they are very hard workers. They are always wanting to learn more and constantly ask questions to make their learning more meaningful. They really show that they enjoy learning and that they want to continue to learn. They really enjoy school and it is a great place for them to come and feel safe and enhance their learning! <!--DONOTREMOVEESSAYDIVIDER-->Students are more on the go then ever! These flexible seating options in my classroom will make a huge difference for all students because it will give them a variety of ways to do their work in the classroom. Students are on the go even more these days and these flexible seating options will give students the options on how they want to complete their work. It will make them feel empowered because they have the choice.\\n\\nThese flexible seating options will also be beneficial because it gets students out of their regular desks and also provides different areas to do their work. We do reading rotations in the morning and they are constantly moving from station to station. Instead of sitting in regular chairs at the stations, these flexible seating options will be perfect and the student's will be able to choose what is more comfortable for them.\\n\\nNot only will these benefit the student's by making it more comfortable to get their work done, they just make the atmosphere of the classroom more fun! Students will be more engaged in their classroom work and will want to go to those stations even more!<!--DONOTREMOVEESSAYDIVIDER-->   \n",
      "\n",
      "                            Teacher ID              Project Title                                                                                                                                                       Project Need Statement Project Resource Category  Project Cost Project Posted Date  \n",
      "1623  6552592608bfd57ac01ae0d4866d6d07  Ants In Our Pants Part 2!  My students need wobble seats and wobble chairs for flexible seating. Students now coming into my classroom are more active than ever and they need the variety of seating.  Flexible Seating          728.58        2018-03-28          \n"
     ]
    }
   ],
   "source": [
    "set_pd_options()\n",
    "pd.set_option('display.max_colwidth', -1)\n",
    "print(active_projects_df[active_projects_df[\"Project ID\"]==\"ec8b31af11c2560d8fca5a698bc29946\"][query_columns])"
   ]
  },
  {
   "cell_type": "markdown",
   "metadata": {},
   "source": [
    "#### <font color=\"blue\">Reset Panda Options</font> \n",
    "Utility method for resetting panda options."
   ]
  },
  {
   "cell_type": "code",
   "execution_count": 24,
   "metadata": {
    "_uuid": "26a3050d4f651d766322f2e4a2db7f3d9a6d920a",
    "collapsed": true
   },
   "outputs": [],
   "source": [
    "def reset_pd_options():\n",
    "    pd.reset_option('display.max_columns')\n",
    "    pd.reset_option('display.width')\n",
    "    pd.reset_option('display.max_rows')\n",
    "    pd.reset_option('display.max_colwidth')"
   ]
  },
  {
   "cell_type": "markdown",
   "metadata": {
    "_uuid": "11b0ac4a0bdab3eae35963d58f82c66fbeb1f9c9",
    "extensions": {
     "jupyter_dashboards": {
      "version": 1,
      "views": {
       "grid_default": {
        "col": 0,
        "height": 5,
        "hidden": false,
        "row": 423,
        "width": 12
       },
       "report_default": {}
      }
     }
    }
   },
   "source": [
    "### <font color=\"blue\">End Notes</font>\n",
    "\n",
    "In this implementation, I have researched different approaches to tackle the problem statement. During this process, I gathered  different ideas from internet  resources & my own thought process. I have referenced relevant articles utilized in the section below.\n",
    "\n",
    "The references are given below: <br>\n",
    "https://sites.temple.edu/tudsc/2017/03/30/measuring-similarity-between-texts-in-python/ <br>\n",
    "https://courses.cs.washington.edu/courses/cse573/12sp/lectures/17-ir.pdf <br>\n",
    "http://blog.christianperone.com/2013/09/machine-learning-cosine-similarity-for-vector-space-models-part-iii/ <br>\n",
    "https://markhneedham.com/blog/2016/07/27/scitkit-learn-tfidf-and-cosine-similarity-for-computer-science-papers/ <br>\n",
    "https://www.svm-tutorial.com/2014/10/svm-linear-kernel-good-text-classification/ <br>\n",
    "http://www.racketracer.com/2016/07/06/pandas-in-parallel/<br>\n",
    "https://appliedmachinelearning.blog/2017/02/12/sentiment-analysis-using-tf-idf-weighting-pythonscikit-learn/\n"
   ]
  },
  {
   "cell_type": "code",
   "execution_count": null,
   "metadata": {
    "collapsed": true
   },
   "outputs": [],
   "source": []
  }
 ],
 "metadata": {
  "extensions": {
   "jupyter_dashboards": {
    "activeView": "grid_default",
    "version": 1,
    "views": {
     "grid_default": {
      "cellMargin": 10,
      "defaultCellHeight": 20,
      "maxColumns": 12,
      "name": "grid",
      "type": "grid"
     },
     "report_default": {
      "name": "report",
      "type": "report"
     }
    }
   }
  },
  "kernelspec": {
   "display_name": "Python 3",
   "language": "python",
   "name": "python3"
  },
  "language_info": {
   "codemirror_mode": {
    "name": "ipython",
    "version": 3
   },
   "file_extension": ".py",
   "mimetype": "text/x-python",
   "name": "python",
   "nbconvert_exporter": "python",
   "pygments_lexer": "ipython3",
   "version": "3.6.2"
  }
 },
 "nbformat": 4,
 "nbformat_minor": 1
}
